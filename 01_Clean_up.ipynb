{
 "cells": [
  {
   "cell_type": "markdown",
   "metadata": {},
   "source": [
    "<div align=\"center\"><img src=\"https://www.muycomputerpro.com/wp-content/uploads/2018/02/Machine-learning-in-cyber-security-770x476.jpg\"></div>"
   ]
  },
  {
   "cell_type": "markdown",
   "metadata": {},
   "source": [
    "<h1>Price History<span class=\"tocSkip\"></span></h1>\n",
    "\n",
    "In this jupyter I am going to clean up a DataFrame that allows us to make the machine learning model in order to see if the price of the desired house is in line with the market price.\n",
    "\n",
    "This model is made thanks to a database downloaded from [Kaggle](https://www.kaggle.com/mirbektoktogaraev/madrid-real-estate-market) in which there are more than 21,000 houses in Madrid. This will allow me to predict the future price of a property."
   ]
  },
  {
   "cell_type": "markdown",
   "metadata": {},
   "source": [
    "# Import libraries"
   ]
  },
  {
   "cell_type": "code",
   "execution_count": 1,
   "metadata": {},
   "outputs": [],
   "source": [
    "import src.limpieza as lm\n",
    "import pandas as pd\n",
    "import numpy as np\n",
    "import re"
   ]
  },
  {
   "cell_type": "markdown",
   "metadata": {},
   "source": [
    "# Import DataFrame"
   ]
  },
  {
   "cell_type": "markdown",
   "metadata": {},
   "source": [
    "## Download data from [Kaggle](https://www.kaggle.com/mirbektoktogaraev/madrid-real-estate-market)"
   ]
  },
  {
   "cell_type": "code",
   "execution_count": 2,
   "metadata": {},
   "outputs": [],
   "source": [
    "#lm.download_kaggle()"
   ]
  },
  {
   "cell_type": "markdown",
   "metadata": {},
   "source": [
    "## Open `.csv` file"
   ]
  },
  {
   "cell_type": "code",
   "execution_count": 3,
   "metadata": {},
   "outputs": [],
   "source": [
    "data =pd.read_csv(\"data/houses_Madrid.csv\")"
   ]
  },
  {
   "cell_type": "markdown",
   "metadata": {},
   "source": [
    "## Dimension"
   ]
  },
  {
   "cell_type": "code",
   "execution_count": 4,
   "metadata": {},
   "outputs": [
    {
     "data": {
      "text/plain": [
       "(21742, 58)"
      ]
     },
     "execution_count": 4,
     "metadata": {},
     "output_type": "execute_result"
    }
   ],
   "source": [
    "data.shape"
   ]
  },
  {
   "cell_type": "markdown",
   "metadata": {},
   "source": [
    "## Null values\n",
    "\n",
    "Let´s check it out how many null values are there in each column in order to see wich columns are useful."
   ]
  },
  {
   "cell_type": "code",
   "execution_count": 5,
   "metadata": {},
   "outputs": [
    {
     "data": {
      "text/plain": [
       "Unnamed: 0                          0\n",
       "id                                  0\n",
       "title                               0\n",
       "subtitle                            0\n",
       "sq_mt_built                       126\n",
       "sq_mt_useful                    13514\n",
       "n_rooms                             0\n",
       "n_bathrooms                        16\n",
       "n_floors                        20305\n",
       "sq_mt_allotment                 20310\n",
       "latitude                        21742\n",
       "longitude                       21742\n",
       "raw_address                      5465\n",
       "is_exact_address_hidden             0\n",
       "street_name                      5905\n",
       "street_number                   15442\n",
       "portal                          21742\n",
       "floor                            2607\n",
       "is_floor_under                   1170\n",
       "door                            21742\n",
       "neighborhood_id                     0\n",
       "operation                           0\n",
       "rent_price                          0\n",
       "rent_price_by_area              21742\n",
       "is_rent_price_known                 0\n",
       "buy_price                           0\n",
       "buy_price_by_area                   0\n",
       "is_buy_price_known                  0\n",
       "house_type_id                     391\n",
       "is_renewal_needed                   0\n",
       "is_new_development                992\n",
       "built_year                      11742\n",
       "has_central_heating              8134\n",
       "has_individual_heating           8134\n",
       "are_pets_allowed                21742\n",
       "has_ac                          10531\n",
       "has_fitted_wardrobes             8343\n",
       "has_lift                         2386\n",
       "is_exterior                      3043\n",
       "has_garden                      20186\n",
       "has_pool                        16571\n",
       "has_terrace                     12194\n",
       "has_balcony                     18421\n",
       "has_storage_room                14044\n",
       "is_furnished                    21742\n",
       "is_kitchen_equipped             21742\n",
       "is_accessible                   17668\n",
       "has_green_zones                 17685\n",
       "energy_certificate                  0\n",
       "has_parking                         0\n",
       "has_private_parking             21742\n",
       "has_public_parking              21742\n",
       "is_parking_included_in_price    14023\n",
       "parking_price                   14023\n",
       "is_orientation_north            10384\n",
       "is_orientation_west             10384\n",
       "is_orientation_south            10384\n",
       "is_orientation_east             10384\n",
       "dtype: int64"
      ]
     },
     "execution_count": 5,
     "metadata": {},
     "output_type": "execute_result"
    }
   ],
   "source": [
    "data.isnull().sum()"
   ]
  },
  {
   "cell_type": "code",
   "execution_count": 6,
   "metadata": {},
   "outputs": [
    {
     "data": {
      "text/plain": [
       "HouseType 1: Pisos            17705\n",
       "HouseType 2: Casa o chalet     1938\n",
       "HouseType 5: Áticos            1032\n",
       "HouseType 4: Dúplex             676\n",
       "Name: house_type_id, dtype: int64"
      ]
     },
     "execution_count": 6,
     "metadata": {},
     "output_type": "execute_result"
    }
   ],
   "source": [
    "data.house_type_id.value_counts()"
   ]
  },
  {
   "cell_type": "markdown",
   "metadata": {},
   "source": [
    "## Delete not useful columns"
   ]
  },
  {
   "cell_type": "markdown",
   "metadata": {},
   "source": [
    "Despite deleting not useful columns, I am going to select wich columns are useful. It´s quicker!"
   ]
  },
  {
   "cell_type": "code",
   "execution_count": 7,
   "metadata": {},
   "outputs": [],
   "source": [
    "estas_si = [\"id\",\n",
    "           \"title\",\n",
    "           \"subtitle\",\n",
    "           \"sq_mt_built\",\n",
    "           \"sq_mt_useful\",\n",
    "           \"n_rooms\",\n",
    "           \"n_bathrooms\",\n",
    "           \"floor\",\n",
    "           \"neighborhood_id\",\n",
    "           \"rent_price\",\n",
    "           \"buy_price\",\n",
    "           \"house_type_id\",\n",
    "           \"is_new_development\",\n",
    "           \"is_renewal_needed\",\n",
    "           \"energy_certificate\",\n",
    "           \"has_parking\",\n",
    "           \"is_exterior\"]"
   ]
  },
  {
   "cell_type": "markdown",
   "metadata": {},
   "source": [
    "# New DataFrame\n",
    "Now I have a new dataframe with less columns than the original but still with some null values."
   ]
  },
  {
   "cell_type": "code",
   "execution_count": 8,
   "metadata": {},
   "outputs": [],
   "source": [
    "data_limpio = data[estas_si]\n",
    "data_limpio.to_csv(\"data/data_limpio.csv\")"
   ]
  },
  {
   "cell_type": "code",
   "execution_count": 9,
   "metadata": {},
   "outputs": [],
   "source": [
    "casas = pd.read_csv(\"data/data_limpio.csv\")"
   ]
  },
  {
   "cell_type": "code",
   "execution_count": 10,
   "metadata": {},
   "outputs": [
    {
     "data": {
      "text/plain": [
       "Unnamed: 0                0\n",
       "id                        0\n",
       "title                     0\n",
       "subtitle                  0\n",
       "sq_mt_built             126\n",
       "sq_mt_useful          13514\n",
       "n_rooms                   0\n",
       "n_bathrooms              16\n",
       "floor                  2607\n",
       "neighborhood_id           0\n",
       "rent_price                0\n",
       "buy_price                 0\n",
       "house_type_id           391\n",
       "is_new_development      992\n",
       "is_renewal_needed         0\n",
       "energy_certificate        0\n",
       "has_parking               0\n",
       "is_exterior            3043\n",
       "dtype: int64"
      ]
     },
     "execution_count": 10,
     "metadata": {},
     "output_type": "execute_result"
    }
   ],
   "source": [
    "casas.isnull().sum()"
   ]
  },
  {
   "cell_type": "markdown",
   "metadata": {},
   "source": [
    "##  Fixing null values\n",
    "Now I am going to fill in the unknown values of useful $m^2$, because there are `13.514` null values for this column but it is a value that we can 'predict'. To do this I am going to find out what average percentage of $m^2$ is the usable area with respect to the constructed area.\n",
    "\n",
    "This factor should vary depending on the thickness of the walls, the existence of terraces or partitions. It is up to the technician to define this value, which is usually between 0.90 and 0.80. So a correct value would be in this range.\n",
    "\n",
    "`I do this process even though I know that I might delete the useful square metres column at a later stage due to the high correlation with the built square metres column.`"
   ]
  },
  {
   "cell_type": "code",
   "execution_count": 11,
   "metadata": {},
   "outputs": [
    {
     "data": {
      "text/plain": [
       "0.85"
      ]
     },
     "execution_count": 11,
     "metadata": {},
     "output_type": "execute_result"
    }
   ],
   "source": [
    "casas[\"useful/built\"] = round(casas[\"sq_mt_useful\"] / casas[\"sq_mt_built\"],2)\n",
    "porc_ub = casas[\"useful/built\"].mean().round(2)\n",
    "porc_ub"
   ]
  },
  {
   "cell_type": "markdown",
   "metadata": {},
   "source": [
    "The average ratio between these columns in the DataFrame is `0.85%`, so it is within the expected range."
   ]
  },
  {
   "cell_type": "code",
   "execution_count": 12,
   "metadata": {
    "scrolled": false
   },
   "outputs": [],
   "source": [
    "casas[\"sq_mt_useful\"].fillna(round(casas[\"sq_mt_built\"]*porc_ub,2), inplace=True)"
   ]
  },
  {
   "cell_type": "code",
   "execution_count": 13,
   "metadata": {
    "scrolled": false
   },
   "outputs": [],
   "source": [
    "casas[\"sq_mt_built\"].fillna(round(casas[\"sq_mt_useful\"]/porc_ub,2), inplace=True)"
   ]
  },
  {
   "cell_type": "code",
   "execution_count": 14,
   "metadata": {},
   "outputs": [],
   "source": [
    "casas.drop([\"useful/built\"], axis=1, inplace=True)"
   ]
  },
  {
   "cell_type": "markdown",
   "metadata": {
    "code_folding": []
   },
   "source": [
    "## Is exterior?\n",
    "To try to fill in the values of the `is_exterior` column what we are going to do is to look at the `house_type_id`, we cannot know if a flat or a duplex are interior or exterior, but we can say that a villa and a penthouse are."
   ]
  },
  {
   "cell_type": "code",
   "execution_count": 15,
   "metadata": {
    "scrolled": false
   },
   "outputs": [
    {
     "data": {
      "text/plain": [
       "HouseType 1: Pisos            17705\n",
       "HouseType 2: Casa o chalet     1938\n",
       "HouseType 5: Áticos            1032\n",
       "HouseType 4: Dúplex             676\n",
       "Name: house_type_id, dtype: int64"
      ]
     },
     "execution_count": 15,
     "metadata": {},
     "output_type": "execute_result"
    }
   ],
   "source": [
    "casas.house_type_id.value_counts()"
   ]
  },
  {
   "cell_type": "code",
   "execution_count": 16,
   "metadata": {
    "scrolled": true
   },
   "outputs": [
    {
     "data": {
      "text/plain": [
       "True     16922\n",
       "False     1777\n",
       "Name: is_exterior, dtype: int64"
      ]
     },
     "execution_count": 16,
     "metadata": {},
     "output_type": "execute_result"
    }
   ],
   "source": [
    "casas.is_exterior.value_counts()"
   ]
  },
  {
   "cell_type": "code",
   "execution_count": 17,
   "metadata": {},
   "outputs": [
    {
     "data": {
      "text/plain": [
       "True     18860\n",
       "False     1777\n",
       "Name: is_exterior, dtype: int64"
      ]
     },
     "execution_count": 17,
     "metadata": {},
     "output_type": "execute_result"
    }
   ],
   "source": [
    "casas[\"is_exterior\"] = np.where((casas[\"house_type_id\"] == \"HouseType 2: Casa o chalet\"),\n",
    "                             True,\n",
    "                             casas[\"is_exterior\"])\n",
    "casas.is_exterior.value_counts()"
   ]
  },
  {
   "cell_type": "markdown",
   "metadata": {},
   "source": [
    "## Categorical to numeric"
   ]
  },
  {
   "cell_type": "markdown",
   "metadata": {},
   "source": [
    "### Floor"
   ]
  },
  {
   "cell_type": "code",
   "execution_count": 18,
   "metadata": {},
   "outputs": [
    {
     "data": {
      "text/plain": [
       "1                       4440\n",
       "2                       3546\n",
       "3                       3001\n",
       "4                       2323\n",
       "Bajo                    2144\n",
       "5                       1310\n",
       "6                        913\n",
       "7                        556\n",
       "8                        326\n",
       "Entreplanta exterior     236\n",
       "9                        181\n",
       "Semi-sótano exterior      55\n",
       "Semi-sótano interior      36\n",
       "Entreplanta interior      32\n",
       "Sótano interior           23\n",
       "Sótano                     5\n",
       "Sótano exterior            4\n",
       "Entreplanta                3\n",
       "Semi-sótano                1\n",
       "Name: floor, dtype: int64"
      ]
     },
     "execution_count": 18,
     "metadata": {},
     "output_type": "execute_result"
    }
   ],
   "source": [
    "casas.floor.value_counts()"
   ]
  },
  {
   "cell_type": "code",
   "execution_count": 19,
   "metadata": {},
   "outputs": [],
   "source": [
    "valores_nuevos = {\n",
    "    \"Bajo\" : 0,\n",
    "    \"Entreplanta\" : 0.5,\n",
    "    \"Entreplanta exterior\" : 0.5,\n",
    "    \"Entreplanta interior\" : 0.5,\n",
    "    \"Semi-sótano\" : -0.5,\n",
    "    \"Semi-sótano exterior\" : -0.5,\n",
    "    \"Semi-sótano interior\" : -0.5,\n",
    "    \"Sótano\" : -1,\n",
    "    \"Sótano interior\" : -1,\n",
    "    \"Sótano exterior\" : -1,    \n",
    "}"
   ]
  },
  {
   "cell_type": "code",
   "execution_count": 20,
   "metadata": {},
   "outputs": [],
   "source": [
    "for k, v in valores_nuevos.items():\n",
    "        casas[\"floor\"].replace(k, v, inplace=True)"
   ]
  },
  {
   "cell_type": "code",
   "execution_count": 21,
   "metadata": {},
   "outputs": [
    {
     "data": {
      "text/plain": [
       "1       4440\n",
       "2       3546\n",
       "3       3001\n",
       "4       2323\n",
       "0       2144\n",
       "5       1310\n",
       "6        913\n",
       "7        556\n",
       "8        326\n",
       "0.5      271\n",
       "9        181\n",
       "-0.5      92\n",
       "-1        32\n",
       "Name: floor, dtype: int64"
      ]
     },
     "execution_count": 21,
     "metadata": {},
     "output_type": "execute_result"
    }
   ],
   "source": [
    "casas.floor.value_counts()"
   ]
  },
  {
   "cell_type": "markdown",
   "metadata": {},
   "source": [
    "### House type"
   ]
  },
  {
   "cell_type": "code",
   "execution_count": 22,
   "metadata": {},
   "outputs": [
    {
     "data": {
      "text/plain": [
       "{'HouseType 1: Pisos': 0,\n",
       " 'HouseType 2: Casa o chalet': 0,\n",
       " 'HouseType 5: Áticos': 0,\n",
       " 'HouseType 4: Dúplex': 0}"
      ]
     },
     "execution_count": 22,
     "metadata": {},
     "output_type": "execute_result"
    }
   ],
   "source": [
    "keys_tipo = list(casas.house_type_id.value_counts().keys())\n",
    "dicc_tipo = {}\n",
    "for elem in keys_tipo:\n",
    "    dicc_tipo[elem] = 0\n",
    "    \n",
    "dicc_tipo\n",
    "    "
   ]
  },
  {
   "cell_type": "code",
   "execution_count": 23,
   "metadata": {},
   "outputs": [],
   "source": [
    "valores_tipo = {\n",
    "    'HouseType 1: Pisos': 0,\n",
    "    'HouseType 2: Casa o chalet': 3,\n",
    "    'HouseType 5: Áticos': 2,\n",
    "    'HouseType 4: Dúplex': 1\n",
    "}"
   ]
  },
  {
   "cell_type": "code",
   "execution_count": 24,
   "metadata": {},
   "outputs": [],
   "source": [
    "casas[\"tipo\"] = casas.house_type_id.map(valores_tipo)\n"
   ]
  },
  {
   "cell_type": "markdown",
   "metadata": {},
   "source": [
    "### Neighborhood ID"
   ]
  },
  {
   "cell_type": "code",
   "execution_count": 25,
   "metadata": {},
   "outputs": [],
   "source": [
    "barrios = list(casas.neighborhood_id.value_counts().keys()) "
   ]
  },
  {
   "cell_type": "code",
   "execution_count": 26,
   "metadata": {},
   "outputs": [
    {
     "data": {
      "text/plain": [
       "'Neighborhood 23: Malasaña-Universidad (5196.25 €/m2) - District 4: Centro'"
      ]
     },
     "execution_count": 26,
     "metadata": {},
     "output_type": "execute_result"
    }
   ],
   "source": [
    "barrios[0]"
   ]
  },
  {
   "cell_type": "code",
   "execution_count": 27,
   "metadata": {},
   "outputs": [
    {
     "data": {
      "text/plain": [
       "5196.25"
      ]
     },
     "execution_count": 27,
     "metadata": {},
     "output_type": "execute_result"
    }
   ],
   "source": [
    "value = re.findall(r\"\\d+.\\d+\", barrios[0])\n",
    "float(value[0])"
   ]
  },
  {
   "cell_type": "code",
   "execution_count": 28,
   "metadata": {
    "scrolled": true
   },
   "outputs": [],
   "source": [
    "dicc_pm2 = {}\n",
    "for elem in barrios:\n",
    "    value = re.findall(r\"\\d+.\\d+\", elem)\n",
    "    try:\n",
    "        dicc_pm2[elem] = (float(value[0])/1000)\n",
    "    except:\n",
    "        dicc_pm2[elem] = 0"
   ]
  },
  {
   "cell_type": "code",
   "execution_count": 29,
   "metadata": {},
   "outputs": [],
   "source": [
    "casas[\"barrio_pm2\"] = casas.neighborhood_id.map(dicc_pm2)"
   ]
  },
  {
   "cell_type": "code",
   "execution_count": 30,
   "metadata": {},
   "outputs": [
    {
     "data": {
      "text/plain": [
       "['Malasaña-Universidad', 'Centro']"
      ]
     },
     "execution_count": 30,
     "metadata": {},
     "output_type": "execute_result"
    }
   ],
   "source": [
    "value_bd = re.findall(r\"(?<=\\:.)(\\w+.\\w+)\", barrios[0])\n",
    "value_bd"
   ]
  },
  {
   "cell_type": "code",
   "execution_count": 31,
   "metadata": {
    "scrolled": true
   },
   "outputs": [],
   "source": [
    "barrio = {}\n",
    "distrito = {}\n",
    "for elem in barrios:\n",
    "    value_bd = re.findall(r\"(?<=\\:.)(\\w+.\\w+)\", elem)\n",
    "    barrio[elem] = value_bd[0]\n",
    "    distrito[elem] = value_bd[1]"
   ]
  },
  {
   "cell_type": "code",
   "execution_count": 32,
   "metadata": {},
   "outputs": [],
   "source": [
    "casas[\"barrio\"] = casas.neighborhood_id.map(barrio)\n",
    "casas[\"distr\"] = casas.neighborhood_id.map(distrito)"
   ]
  },
  {
   "cell_type": "markdown",
   "metadata": {},
   "source": [
    "### Energy Certificate\n",
    "To try to fill in the values of the `is_exterior` column what we are going to do is to look at the `house_type_id`, we cannot know if a flat or a duplex are interior or exterior, but we can say that a villa and a penthouse are."
   ]
  },
  {
   "cell_type": "code",
   "execution_count": 33,
   "metadata": {},
   "outputs": [
    {
     "data": {
      "text/plain": [
       "{'en trámite': 0,\n",
       " 'no indicado': 0,\n",
       " 'E': 0,\n",
       " 'D': 0,\n",
       " 'G': 0,\n",
       " 'F': 0,\n",
       " 'A': 0,\n",
       " 'C': 0,\n",
       " 'B': 0,\n",
       " 'inmueble exento': 0}"
      ]
     },
     "execution_count": 33,
     "metadata": {},
     "output_type": "execute_result"
    }
   ],
   "source": [
    "keys = list(casas.energy_certificate.value_counts().keys())\n",
    "dicc = {}\n",
    "for elem in keys:\n",
    "    dicc[elem] = 0\n",
    "    \n",
    "dicc\n",
    "    "
   ]
  },
  {
   "cell_type": "code",
   "execution_count": 34,
   "metadata": {},
   "outputs": [],
   "source": [
    "valores_cert = {\n",
    "    'en trámite': 0,\n",
    "     'no indicado': 0,\n",
    "     'E': 3,\n",
    "     'D': 4,\n",
    "     'G': 1,\n",
    "     'F': 2,\n",
    "     'A': 7,\n",
    "     'C': 5,\n",
    "     'B': 6,\n",
    "     'inmueble exento': 0}"
   ]
  },
  {
   "cell_type": "code",
   "execution_count": 35,
   "metadata": {},
   "outputs": [],
   "source": [
    "casas[\"e_certificate\"] = casas.energy_certificate.map(valores_cert)\n"
   ]
  },
  {
   "cell_type": "markdown",
   "metadata": {},
   "source": [
    "## Delete rows with null values\n",
    "Once we have tried to fix the data and we cannot do anything else, we delete those rows that contain null values in any of their columns."
   ]
  },
  {
   "cell_type": "code",
   "execution_count": 36,
   "metadata": {},
   "outputs": [
    {
     "data": {
      "text/plain": [
       "(21742, 23)"
      ]
     },
     "execution_count": 36,
     "metadata": {},
     "output_type": "execute_result"
    }
   ],
   "source": [
    "casas.shape"
   ]
  },
  {
   "cell_type": "code",
   "execution_count": 37,
   "metadata": {
    "scrolled": true
   },
   "outputs": [
    {
     "data": {
      "text/plain": [
       "Unnamed: 0               0\n",
       "id                       0\n",
       "title                    0\n",
       "subtitle                 0\n",
       "sq_mt_built            108\n",
       "sq_mt_useful           108\n",
       "n_rooms                  0\n",
       "n_bathrooms             16\n",
       "floor                 2607\n",
       "neighborhood_id          0\n",
       "rent_price               0\n",
       "buy_price                0\n",
       "house_type_id          391\n",
       "is_new_development     992\n",
       "is_renewal_needed        0\n",
       "energy_certificate       0\n",
       "has_parking              0\n",
       "is_exterior           1105\n",
       "tipo                   391\n",
       "barrio_pm2               0\n",
       "barrio                   0\n",
       "distr                    0\n",
       "e_certificate            0\n",
       "dtype: int64"
      ]
     },
     "execution_count": 37,
     "metadata": {},
     "output_type": "execute_result"
    }
   ],
   "source": [
    "casas.isnull().sum()"
   ]
  },
  {
   "cell_type": "code",
   "execution_count": 38,
   "metadata": {},
   "outputs": [
    {
     "data": {
      "text/plain": [
       "Unnamed: 0            0\n",
       "id                    0\n",
       "title                 0\n",
       "subtitle              0\n",
       "sq_mt_built           0\n",
       "sq_mt_useful          0\n",
       "n_rooms               0\n",
       "n_bathrooms           0\n",
       "floor                 0\n",
       "neighborhood_id       0\n",
       "rent_price            0\n",
       "buy_price             0\n",
       "house_type_id         0\n",
       "is_new_development    0\n",
       "is_renewal_needed     0\n",
       "energy_certificate    0\n",
       "has_parking           0\n",
       "is_exterior           0\n",
       "tipo                  0\n",
       "barrio_pm2            0\n",
       "barrio                0\n",
       "distr                 0\n",
       "e_certificate         0\n",
       "dtype: int64"
      ]
     },
     "execution_count": 38,
     "metadata": {},
     "output_type": "execute_result"
    }
   ],
   "source": [
    "casas_limpio = casas.dropna(axis=0, how=\"any\")\n",
    "casas_limpio.isnull().sum()"
   ]
  },
  {
   "cell_type": "code",
   "execution_count": 39,
   "metadata": {},
   "outputs": [
    {
     "data": {
      "text/plain": [
       "(17526, 23)"
      ]
     },
     "execution_count": 39,
     "metadata": {},
     "output_type": "execute_result"
    }
   ],
   "source": [
    "casas_limpio.shape"
   ]
  },
  {
   "cell_type": "code",
   "execution_count": 42,
   "metadata": {},
   "outputs": [
    {
     "data": {
      "text/html": [
       "<div>\n",
       "<style scoped>\n",
       "    .dataframe tbody tr th:only-of-type {\n",
       "        vertical-align: middle;\n",
       "    }\n",
       "\n",
       "    .dataframe tbody tr th {\n",
       "        vertical-align: top;\n",
       "    }\n",
       "\n",
       "    .dataframe thead th {\n",
       "        text-align: right;\n",
       "    }\n",
       "</style>\n",
       "<table border=\"1\" class=\"dataframe\">\n",
       "  <thead>\n",
       "    <tr style=\"text-align: right;\">\n",
       "      <th></th>\n",
       "      <th>Unnamed: 0</th>\n",
       "      <th>id</th>\n",
       "      <th>title</th>\n",
       "      <th>subtitle</th>\n",
       "      <th>sq_mt_built</th>\n",
       "      <th>sq_mt_useful</th>\n",
       "      <th>n_rooms</th>\n",
       "      <th>n_bathrooms</th>\n",
       "      <th>floor</th>\n",
       "      <th>neighborhood_id</th>\n",
       "      <th>...</th>\n",
       "      <th>is_new_development</th>\n",
       "      <th>is_renewal_needed</th>\n",
       "      <th>energy_certificate</th>\n",
       "      <th>has_parking</th>\n",
       "      <th>is_exterior</th>\n",
       "      <th>tipo</th>\n",
       "      <th>barrio_pm2</th>\n",
       "      <th>barrio</th>\n",
       "      <th>distr</th>\n",
       "      <th>e_certificate</th>\n",
       "    </tr>\n",
       "  </thead>\n",
       "  <tbody>\n",
       "    <tr>\n",
       "      <th>7724</th>\n",
       "      <td>7724</td>\n",
       "      <td>14018</td>\n",
       "      <td>Piso en venta en calle de Martín de los Heros, 83</td>\n",
       "      <td>Argüelles, Madrid</td>\n",
       "      <td>89.0</td>\n",
       "      <td>75.65</td>\n",
       "      <td>2</td>\n",
       "      <td>2.0</td>\n",
       "      <td>2</td>\n",
       "      <td>Neighborhood 73: Argüelles (4807.69 €/m2) - Di...</td>\n",
       "      <td>...</td>\n",
       "      <td>False</td>\n",
       "      <td>False</td>\n",
       "      <td>C</td>\n",
       "      <td>False</td>\n",
       "      <td>False</td>\n",
       "      <td>0.0</td>\n",
       "      <td>4.80769</td>\n",
       "      <td>Argüelles</td>\n",
       "      <td>Moncloa</td>\n",
       "      <td>5</td>\n",
       "    </tr>\n",
       "    <tr>\n",
       "      <th>19102</th>\n",
       "      <td>19102</td>\n",
       "      <td>2640</td>\n",
       "      <td>Piso en venta en calle de Alcalá, 68</td>\n",
       "      <td>Recoletos, Madrid</td>\n",
       "      <td>114.0</td>\n",
       "      <td>100.00</td>\n",
       "      <td>4</td>\n",
       "      <td>1.0</td>\n",
       "      <td>4</td>\n",
       "      <td>Neighborhood 102: Recoletos (8392.43 €/m2) - D...</td>\n",
       "      <td>...</td>\n",
       "      <td>False</td>\n",
       "      <td>False</td>\n",
       "      <td>en trámite</td>\n",
       "      <td>False</td>\n",
       "      <td>False</td>\n",
       "      <td>0.0</td>\n",
       "      <td>0.10200</td>\n",
       "      <td>Recoletos</td>\n",
       "      <td>Salamanca</td>\n",
       "      <td>0</td>\n",
       "    </tr>\n",
       "    <tr>\n",
       "      <th>5213</th>\n",
       "      <td>5213</td>\n",
       "      <td>16529</td>\n",
       "      <td>Piso en venta en calle del Puerto de Arlabán, 45</td>\n",
       "      <td>San Diego, Madrid</td>\n",
       "      <td>40.0</td>\n",
       "      <td>34.00</td>\n",
       "      <td>1</td>\n",
       "      <td>1.0</td>\n",
       "      <td>0</td>\n",
       "      <td>Neighborhood 89: San Diego (2007.79 €/m2) - Di...</td>\n",
       "      <td>...</td>\n",
       "      <td>False</td>\n",
       "      <td>False</td>\n",
       "      <td>en trámite</td>\n",
       "      <td>False</td>\n",
       "      <td>False</td>\n",
       "      <td>0.0</td>\n",
       "      <td>2.00779</td>\n",
       "      <td>San Diego</td>\n",
       "      <td>Puente de</td>\n",
       "      <td>0</td>\n",
       "    </tr>\n",
       "    <tr>\n",
       "      <th>9346</th>\n",
       "      <td>9346</td>\n",
       "      <td>12396</td>\n",
       "      <td>Piso en venta en calle de la Costa Brava</td>\n",
       "      <td>Mirasierra, Madrid</td>\n",
       "      <td>109.0</td>\n",
       "      <td>85.00</td>\n",
       "      <td>2</td>\n",
       "      <td>2.0</td>\n",
       "      <td>2</td>\n",
       "      <td>Neighborhood 56: Mirasierra (3695.5 €/m2) - Di...</td>\n",
       "      <td>...</td>\n",
       "      <td>False</td>\n",
       "      <td>False</td>\n",
       "      <td>en trámite</td>\n",
       "      <td>True</td>\n",
       "      <td>True</td>\n",
       "      <td>0.0</td>\n",
       "      <td>3.69550</td>\n",
       "      <td>Mirasierra</td>\n",
       "      <td>Fuencarral</td>\n",
       "      <td>0</td>\n",
       "    </tr>\n",
       "    <tr>\n",
       "      <th>16703</th>\n",
       "      <td>16703</td>\n",
       "      <td>5039</td>\n",
       "      <td>Piso en venta en calle de Zaida</td>\n",
       "      <td>San Isidro, Madrid</td>\n",
       "      <td>53.0</td>\n",
       "      <td>45.05</td>\n",
       "      <td>1</td>\n",
       "      <td>1.0</td>\n",
       "      <td>3</td>\n",
       "      <td>Neighborhood 19: San Isidro (2323.93 €/m2) - D...</td>\n",
       "      <td>...</td>\n",
       "      <td>False</td>\n",
       "      <td>False</td>\n",
       "      <td>en trámite</td>\n",
       "      <td>False</td>\n",
       "      <td>True</td>\n",
       "      <td>0.0</td>\n",
       "      <td>2.32393</td>\n",
       "      <td>San Isidro</td>\n",
       "      <td>Carabanchel</td>\n",
       "      <td>0</td>\n",
       "    </tr>\n",
       "  </tbody>\n",
       "</table>\n",
       "<p>5 rows × 23 columns</p>\n",
       "</div>"
      ],
      "text/plain": [
       "       Unnamed: 0     id                                              title  \\\n",
       "7724         7724  14018  Piso en venta en calle de Martín de los Heros, 83   \n",
       "19102       19102   2640               Piso en venta en calle de Alcalá, 68   \n",
       "5213         5213  16529   Piso en venta en calle del Puerto de Arlabán, 45   \n",
       "9346         9346  12396           Piso en venta en calle de la Costa Brava   \n",
       "16703       16703   5039                    Piso en venta en calle de Zaida   \n",
       "\n",
       "                 subtitle  sq_mt_built  sq_mt_useful  n_rooms  n_bathrooms  \\\n",
       "7724    Argüelles, Madrid         89.0         75.65        2          2.0   \n",
       "19102   Recoletos, Madrid        114.0        100.00        4          1.0   \n",
       "5213    San Diego, Madrid         40.0         34.00        1          1.0   \n",
       "9346   Mirasierra, Madrid        109.0         85.00        2          2.0   \n",
       "16703  San Isidro, Madrid         53.0         45.05        1          1.0   \n",
       "\n",
       "      floor                                    neighborhood_id  ...  \\\n",
       "7724      2  Neighborhood 73: Argüelles (4807.69 €/m2) - Di...  ...   \n",
       "19102     4  Neighborhood 102: Recoletos (8392.43 €/m2) - D...  ...   \n",
       "5213      0  Neighborhood 89: San Diego (2007.79 €/m2) - Di...  ...   \n",
       "9346      2  Neighborhood 56: Mirasierra (3695.5 €/m2) - Di...  ...   \n",
       "16703     3  Neighborhood 19: San Isidro (2323.93 €/m2) - D...  ...   \n",
       "\n",
       "       is_new_development  is_renewal_needed energy_certificate has_parking  \\\n",
       "7724                False              False                  C       False   \n",
       "19102               False              False         en trámite       False   \n",
       "5213                False              False         en trámite       False   \n",
       "9346                False              False         en trámite        True   \n",
       "16703               False              False         en trámite       False   \n",
       "\n",
       "       is_exterior tipo  barrio_pm2      barrio        distr  e_certificate  \n",
       "7724         False  0.0     4.80769   Argüelles      Moncloa              5  \n",
       "19102        False  0.0     0.10200   Recoletos    Salamanca              0  \n",
       "5213         False  0.0     2.00779   San Diego    Puente de              0  \n",
       "9346          True  0.0     3.69550  Mirasierra   Fuencarral              0  \n",
       "16703         True  0.0     2.32393  San Isidro  Carabanchel              0  \n",
       "\n",
       "[5 rows x 23 columns]"
      ]
     },
     "execution_count": 42,
     "metadata": {},
     "output_type": "execute_result"
    }
   ],
   "source": [
    "casas_limpio.sample(5)"
   ]
  },
  {
   "cell_type": "markdown",
   "metadata": {},
   "source": [
    "# Export DataFrame"
   ]
  },
  {
   "cell_type": "code",
   "execution_count": 41,
   "metadata": {},
   "outputs": [],
   "source": [
    "casas_limpio.to_csv(\"data/casas_limpio.csv\")"
   ]
  },
  {
   "cell_type": "code",
   "execution_count": null,
   "metadata": {},
   "outputs": [],
   "source": []
  }
 ],
 "metadata": {
  "kernelspec": {
   "display_name": "Python 3",
   "language": "python",
   "name": "python3"
  },
  "language_info": {
   "codemirror_mode": {
    "name": "ipython",
    "version": 3
   },
   "file_extension": ".py",
   "mimetype": "text/x-python",
   "name": "python",
   "nbconvert_exporter": "python",
   "pygments_lexer": "ipython3",
   "version": "3.8.5"
  },
  "toc": {
   "base_numbering": 1,
   "nav_menu": {},
   "number_sections": true,
   "sideBar": true,
   "skip_h1_title": false,
   "title_cell": "Table of Contents",
   "title_sidebar": "Contents",
   "toc_cell": false,
   "toc_position": {
    "height": "calc(100% - 180px)",
    "left": "10px",
    "top": "150px",
    "width": "185px"
   },
   "toc_section_display": true,
   "toc_window_display": true
  }
 },
 "nbformat": 4,
 "nbformat_minor": 4
}
