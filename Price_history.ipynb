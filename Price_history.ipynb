{
 "cells": [
  {
   "cell_type": "markdown",
   "metadata": {},
   "source": [
    "<div align=\"center\"><img src=\"https://www.muycomputerpro.com/wp-content/uploads/2018/02/Machine-learning-in-cyber-security-770x476.jpg\"></div>"
   ]
  },
  {
   "cell_type": "markdown",
   "metadata": {},
   "source": [
    "<h1>Price History<span class=\"tocSkip\"></span></h1>\n",
    "\n",
    "In this jupyter I am going to make a machine learning model that allows us to see if the price of the desired house is in line with the market price.\n",
    "\n",
    "This model is made thanks to a database downloaded from [Kaggle](https://www.kaggle.com/mirbektoktogaraev/madrid-real-estate-market) in which there are more than 21,000 houses in Madrid. This will allow me to predict the future price of a property."
   ]
  },
  {
   "cell_type": "markdown",
   "metadata": {},
   "source": [
    "# Import libraries"
   ]
  },
  {
   "cell_type": "code",
   "execution_count": 3,
   "metadata": {},
   "outputs": [],
   "source": [
    "import src.limpieza as lm\n",
    "import pandas as pd"
   ]
  },
  {
   "cell_type": "markdown",
   "metadata": {},
   "source": [
    "# Import DataFrame"
   ]
  },
  {
   "cell_type": "markdown",
   "metadata": {},
   "source": [
    "## Download data from [Kaggle](https://www.kaggle.com/mirbektoktogaraev/madrid-real-estate-market)"
   ]
  },
  {
   "cell_type": "code",
   "execution_count": 4,
   "metadata": {},
   "outputs": [
    {
     "name": "stdout",
     "output_type": "stream",
     "text": [
      "Kaggle file downloaded.\n",
      "Kaggle file unzipped.\n",
      "zip file deleted.\n",
      "Files moved to data folder.\n"
     ]
    },
    {
     "data": {
      "text/plain": [
       "'DataFrame downloaded correctly as madrid-real-estate-market.'"
      ]
     },
     "execution_count": 4,
     "metadata": {},
     "output_type": "execute_result"
    }
   ],
   "source": [
    "lm.download_kaggle()"
   ]
  },
  {
   "cell_type": "markdown",
   "metadata": {},
   "source": [
    "## Open `.csv` file"
   ]
  },
  {
   "cell_type": "code",
   "execution_count": 5,
   "metadata": {},
   "outputs": [],
   "source": [
    "data =pd.read_csv(\"data/houses_Madrid.csv\")"
   ]
  },
  {
   "cell_type": "markdown",
   "metadata": {},
   "source": [
    "## Dimension"
   ]
  },
  {
   "cell_type": "code",
   "execution_count": 6,
   "metadata": {},
   "outputs": [
    {
     "data": {
      "text/plain": [
       "(21742, 58)"
      ]
     },
     "execution_count": 6,
     "metadata": {},
     "output_type": "execute_result"
    }
   ],
   "source": [
    "data.shape"
   ]
  },
  {
   "cell_type": "markdown",
   "metadata": {},
   "source": [
    "## Null values\n",
    "\n",
    "Let´s check it out how many null values are there in each column in order to see wich columns are useful."
   ]
  },
  {
   "cell_type": "code",
   "execution_count": 7,
   "metadata": {},
   "outputs": [
    {
     "data": {
      "text/plain": [
       "Unnamed: 0                          0\n",
       "id                                  0\n",
       "title                               0\n",
       "subtitle                            0\n",
       "sq_mt_built                       126\n",
       "sq_mt_useful                    13514\n",
       "n_rooms                             0\n",
       "n_bathrooms                        16\n",
       "n_floors                        20305\n",
       "sq_mt_allotment                 20310\n",
       "latitude                        21742\n",
       "longitude                       21742\n",
       "raw_address                      5465\n",
       "is_exact_address_hidden             0\n",
       "street_name                      5905\n",
       "street_number                   15442\n",
       "portal                          21742\n",
       "floor                            2607\n",
       "is_floor_under                   1170\n",
       "door                            21742\n",
       "neighborhood_id                     0\n",
       "operation                           0\n",
       "rent_price                          0\n",
       "rent_price_by_area              21742\n",
       "is_rent_price_known                 0\n",
       "buy_price                           0\n",
       "buy_price_by_area                   0\n",
       "is_buy_price_known                  0\n",
       "house_type_id                     391\n",
       "is_renewal_needed                   0\n",
       "is_new_development                992\n",
       "built_year                      11742\n",
       "has_central_heating              8134\n",
       "has_individual_heating           8134\n",
       "are_pets_allowed                21742\n",
       "has_ac                          10531\n",
       "has_fitted_wardrobes             8343\n",
       "has_lift                         2386\n",
       "is_exterior                      3043\n",
       "has_garden                      20186\n",
       "has_pool                        16571\n",
       "has_terrace                     12194\n",
       "has_balcony                     18421\n",
       "has_storage_room                14044\n",
       "is_furnished                    21742\n",
       "is_kitchen_equipped             21742\n",
       "is_accessible                   17668\n",
       "has_green_zones                 17685\n",
       "energy_certificate                  0\n",
       "has_parking                         0\n",
       "has_private_parking             21742\n",
       "has_public_parking              21742\n",
       "is_parking_included_in_price    14023\n",
       "parking_price                   14023\n",
       "is_orientation_north            10384\n",
       "is_orientation_west             10384\n",
       "is_orientation_south            10384\n",
       "is_orientation_east             10384\n",
       "dtype: int64"
      ]
     },
     "execution_count": 7,
     "metadata": {},
     "output_type": "execute_result"
    }
   ],
   "source": [
    "data.isnull().sum()"
   ]
  },
  {
   "cell_type": "code",
   "execution_count": 8,
   "metadata": {},
   "outputs": [
    {
     "data": {
      "text/plain": [
       "HouseType 1: Pisos            17705\n",
       "HouseType 2: Casa o chalet     1938\n",
       "HouseType 5: Áticos            1032\n",
       "HouseType 4: Dúplex             676\n",
       "Name: house_type_id, dtype: int64"
      ]
     },
     "execution_count": 8,
     "metadata": {},
     "output_type": "execute_result"
    }
   ],
   "source": [
    "data.house_type_id.value_counts()"
   ]
  },
  {
   "cell_type": "markdown",
   "metadata": {},
   "source": [
    "## Delete not useful columns"
   ]
  },
  {
   "cell_type": "code",
   "execution_count": 38,
   "metadata": {},
   "outputs": [],
   "source": [
    "borrar = [\"Unnamed: 0\",\n",
    "          \"latitude\",\n",
    "          \"longitude\",\n",
    "          \"sq_mt_allotment\",\n",
    "          \"is_exact_address_hidden\",\n",
    "          \"street_number\",\n",
    "          \"portal\",\n",
    "          \"door\",\n",
    "          \"is_rent_price_known\",\n",
    "          \"operation\",\n",
    "          \"rent_price_by_area\",\n",
    "          \"is_furnished\",\n",
    "          \"is_buy_price_known\",\n",
    "          \"is_kitchen_equipped\",\n",
    "          \"are_pets_allowed\",\n",
    "          \"has_private_parking\",\n",
    "          \"has_public_parking\",\n",
    "          \"is_parking_included_in_price\",\n",
    "          \"parking_price\"\n",
    "         ]"
   ]
  },
  {
   "cell_type": "markdown",
   "metadata": {},
   "source": [
    "Despite deleting not useful columns, I am going to select wich columns are useful. It´s quicker!"
   ]
  },
  {
   "cell_type": "code",
   "execution_count": 10,
   "metadata": {},
   "outputs": [],
   "source": [
    "estas_si = [\"id\",\n",
    "           \"title\",\n",
    "           \"subtitle\",\n",
    "           \"sq_mt_built\",\n",
    "           \"sq_mt_useful\",\n",
    "           \"n_rooms\",\n",
    "           \"n_bathrooms\",\n",
    "           \"floor\",\n",
    "           \"is_floor_under\",\n",
    "           \"neighborhood_id\",\n",
    "           \"rent_price\",\n",
    "           \"buy_price\",\n",
    "           \"house_type_id\",\n",
    "           \"is_new_development\",\n",
    "           \"is_renewal_needed\",\n",
    "           \"energy_certificate\",\n",
    "           \"has_parking\",\n",
    "           \"is_exterior\"]"
   ]
  },
  {
   "cell_type": "markdown",
   "metadata": {},
   "source": [
    "# New DataFrame\n",
    "Now I have a new dataframe with less columns than the original but still with some null values."
   ]
  },
  {
   "cell_type": "code",
   "execution_count": 20,
   "metadata": {},
   "outputs": [
    {
     "data": {
      "text/plain": [
       "id                        0\n",
       "title                     0\n",
       "subtitle                  0\n",
       "sq_mt_built             126\n",
       "sq_mt_useful          13514\n",
       "n_rooms                   0\n",
       "n_bathrooms              16\n",
       "floor                  2607\n",
       "is_floor_under         1170\n",
       "neighborhood_id           0\n",
       "rent_price                0\n",
       "buy_price                 0\n",
       "house_type_id           391\n",
       "is_new_development      992\n",
       "is_renewal_needed         0\n",
       "energy_certificate        0\n",
       "has_parking               0\n",
       "is_exterior            3043\n",
       "dtype: int64"
      ]
     },
     "execution_count": 20,
     "metadata": {},
     "output_type": "execute_result"
    }
   ],
   "source": [
    "casas = data[estas_si]\n",
    "casas.isnull().sum()"
   ]
  },
  {
   "cell_type": "markdown",
   "metadata": {},
   "source": [
    "##  Fixing null values\n",
    "Now I am going to fill in the unknown values of useful $m^2$, because there are `13.514` null values for this column but it is a value that we can 'predict'. To do this I am going to find out what average percentage of $m^2$ is the usable area with respect to the constructed area.\n",
    "\n",
    "This factor should vary depending on the thickness of the walls, the existence of terraces or partitions. It is up to the technician to define this value, which is usually between 0.90 and 0.80. So a correct value would be in this range.\n",
    "\n",
    "`I do this process even though I know that I might delete the useful square metres column at a later stage due to the high correlation with the built square metres column.`"
   ]
  },
  {
   "cell_type": "code",
   "execution_count": 39,
   "metadata": {},
   "outputs": [
    {
     "name": "stderr",
     "output_type": "stream",
     "text": [
      "<ipython-input-39-11f5cffe7d04>:1: SettingWithCopyWarning: \n",
      "A value is trying to be set on a copy of a slice from a DataFrame.\n",
      "Try using .loc[row_indexer,col_indexer] = value instead\n",
      "\n",
      "See the caveats in the documentation: https://pandas.pydata.org/pandas-docs/stable/user_guide/indexing.html#returning-a-view-versus-a-copy\n",
      "  casas[\"useful/built\"] = round(casas[\"sq_mt_useful\"] / casas[\"sq_mt_built\"],2)\n"
     ]
    },
    {
     "data": {
      "text/plain": [
       "0.85"
      ]
     },
     "execution_count": 39,
     "metadata": {},
     "output_type": "execute_result"
    }
   ],
   "source": [
    "casas[\"useful/built\"] = round(casas[\"sq_mt_useful\"] / casas[\"sq_mt_built\"],2)\n",
    "porc_ub = casas[\"useful/built\"].mean().round(2)\n",
    "porc_ub"
   ]
  },
  {
   "cell_type": "markdown",
   "metadata": {},
   "source": [
    "The average ratio between these columns in the DataFrame is `0.85%`, so it is within the expected range."
   ]
  },
  {
   "cell_type": "code",
   "execution_count": 26,
   "metadata": {
    "scrolled": true
   },
   "outputs": [],
   "source": [
    "casas[\"sq_mt_useful\"].fillna(round(casas[\"sq_mt_built\"]*porc_ub,2), inplace=True)"
   ]
  },
  {
   "cell_type": "markdown",
   "metadata": {},
   "source": [
    "## Is exterior?\n",
    "To try to fill in the values of the `is_exterior` column what we are going to do is to look at the `house_type_id`, we cannot know if a flat or a duplex are interior or exterior, but we can say that a villa and a penthouse are."
   ]
  },
  {
   "cell_type": "code",
   "execution_count": 40,
   "metadata": {
    "scrolled": false
   },
   "outputs": [
    {
     "data": {
      "text/plain": [
       "HouseType 1: Pisos            17705\n",
       "HouseType 2: Casa o chalet     1938\n",
       "HouseType 5: Áticos            1032\n",
       "HouseType 4: Dúplex             676\n",
       "Name: house_type_id, dtype: int64"
      ]
     },
     "execution_count": 40,
     "metadata": {},
     "output_type": "execute_result"
    }
   ],
   "source": [
    "casas.house_type_id.value_counts()"
   ]
  },
  {
   "cell_type": "code",
   "execution_count": 41,
   "metadata": {
    "scrolled": false
   },
   "outputs": [
    {
     "data": {
      "text/plain": [
       "True     16922\n",
       "False     1777\n",
       "Name: is_exterior, dtype: int64"
      ]
     },
     "execution_count": 41,
     "metadata": {},
     "output_type": "execute_result"
    }
   ],
   "source": [
    "casas.is_exterior.value_counts()"
   ]
  },
  {
   "cell_type": "code",
   "execution_count": 46,
   "metadata": {},
   "outputs": [],
   "source": [
    "def isexterior():\n",
    "    if casas[\"house_type_id\"] == \"HouseType 5: Áticos\":\n",
    "        return True\n",
    "    elif casas[\"house_type_id\"] == \"HouseType 2: Casa o chalet\":\n",
    "        return True"
   ]
  },
  {
   "cell_type": "code",
   "execution_count": 48,
   "metadata": {},
   "outputs": [
    {
     "ename": "TypeError",
     "evalue": "isexterior() takes 0 positional arguments but 1 was given",
     "output_type": "error",
     "traceback": [
      "\u001b[0;31m---------------------------------------------------------------------------\u001b[0m",
      "\u001b[0;31mTypeError\u001b[0m                                 Traceback (most recent call last)",
      "\u001b[0;32m<ipython-input-48-f7853d596a80>\u001b[0m in \u001b[0;36m<module>\u001b[0;34m\u001b[0m\n\u001b[0;32m----> 1\u001b[0;31m \u001b[0mcasas\u001b[0m\u001b[0;34m[\u001b[0m\u001b[0;34m\"is_exterior\"\u001b[0m\u001b[0;34m]\u001b[0m\u001b[0;34m.\u001b[0m\u001b[0mapply\u001b[0m\u001b[0;34m(\u001b[0m\u001b[0misexterior\u001b[0m\u001b[0;34m)\u001b[0m\u001b[0;34m\u001b[0m\u001b[0;34m\u001b[0m\u001b[0m\n\u001b[0m",
      "\u001b[0;32m~/.local/lib/python3.8/site-packages/pandas/core/series.py\u001b[0m in \u001b[0;36mapply\u001b[0;34m(self, func, convert_dtype, args, **kwds)\u001b[0m\n\u001b[1;32m   4136\u001b[0m             \u001b[0;32melse\u001b[0m\u001b[0;34m:\u001b[0m\u001b[0;34m\u001b[0m\u001b[0;34m\u001b[0m\u001b[0m\n\u001b[1;32m   4137\u001b[0m                 \u001b[0mvalues\u001b[0m \u001b[0;34m=\u001b[0m \u001b[0mself\u001b[0m\u001b[0;34m.\u001b[0m\u001b[0mastype\u001b[0m\u001b[0;34m(\u001b[0m\u001b[0mobject\u001b[0m\u001b[0;34m)\u001b[0m\u001b[0;34m.\u001b[0m\u001b[0m_values\u001b[0m\u001b[0;34m\u001b[0m\u001b[0;34m\u001b[0m\u001b[0m\n\u001b[0;32m-> 4138\u001b[0;31m                 \u001b[0mmapped\u001b[0m \u001b[0;34m=\u001b[0m \u001b[0mlib\u001b[0m\u001b[0;34m.\u001b[0m\u001b[0mmap_infer\u001b[0m\u001b[0;34m(\u001b[0m\u001b[0mvalues\u001b[0m\u001b[0;34m,\u001b[0m \u001b[0mf\u001b[0m\u001b[0;34m,\u001b[0m \u001b[0mconvert\u001b[0m\u001b[0;34m=\u001b[0m\u001b[0mconvert_dtype\u001b[0m\u001b[0;34m)\u001b[0m\u001b[0;34m\u001b[0m\u001b[0;34m\u001b[0m\u001b[0m\n\u001b[0m\u001b[1;32m   4139\u001b[0m \u001b[0;34m\u001b[0m\u001b[0m\n\u001b[1;32m   4140\u001b[0m         \u001b[0;32mif\u001b[0m \u001b[0mlen\u001b[0m\u001b[0;34m(\u001b[0m\u001b[0mmapped\u001b[0m\u001b[0;34m)\u001b[0m \u001b[0;32mand\u001b[0m \u001b[0misinstance\u001b[0m\u001b[0;34m(\u001b[0m\u001b[0mmapped\u001b[0m\u001b[0;34m[\u001b[0m\u001b[0;36m0\u001b[0m\u001b[0;34m]\u001b[0m\u001b[0;34m,\u001b[0m \u001b[0mSeries\u001b[0m\u001b[0;34m)\u001b[0m\u001b[0;34m:\u001b[0m\u001b[0;34m\u001b[0m\u001b[0;34m\u001b[0m\u001b[0m\n",
      "\u001b[0;32mpandas/_libs/lib.pyx\u001b[0m in \u001b[0;36mpandas._libs.lib.map_infer\u001b[0;34m()\u001b[0m\n",
      "\u001b[0;31mTypeError\u001b[0m: isexterior() takes 0 positional arguments but 1 was given"
     ]
    }
   ],
   "source": [
    "casas[\"is_exterior\"].apply(isexterior)"
   ]
  },
  {
   "cell_type": "code",
   "execution_count": 27,
   "metadata": {
    "scrolled": false
   },
   "outputs": [
    {
     "data": {
      "text/plain": [
       "id                       0\n",
       "title                    0\n",
       "subtitle                 0\n",
       "sq_mt_built            126\n",
       "sq_mt_useful           108\n",
       "n_rooms                  0\n",
       "n_bathrooms             16\n",
       "floor                 2607\n",
       "is_floor_under        1170\n",
       "neighborhood_id          0\n",
       "rent_price               0\n",
       "buy_price                0\n",
       "house_type_id          391\n",
       "is_new_development     992\n",
       "is_renewal_needed        0\n",
       "energy_certificate       0\n",
       "has_parking              0\n",
       "is_exterior           3043\n",
       "useful/built           126\n",
       "dtype: int64"
      ]
     },
     "execution_count": 27,
     "metadata": {},
     "output_type": "execute_result"
    }
   ],
   "source": [
    "casas.isnull().sum()"
   ]
  },
  {
   "cell_type": "code",
   "execution_count": 32,
   "metadata": {},
   "outputs": [
    {
     "data": {
      "text/plain": [
       "126"
      ]
     },
     "execution_count": 32,
     "metadata": {},
     "output_type": "execute_result"
    }
   ],
   "source": [
    "len(casas.neighborhood_id.unique())"
   ]
  },
  {
   "cell_type": "markdown",
   "metadata": {},
   "source": [
    "## Delete rows with null values\n",
    "Once we have tried to fix the data and we cannot do anything else, we delete those rows that contain null values in any of their columns."
   ]
  },
  {
   "cell_type": "code",
   "execution_count": 35,
   "metadata": {},
   "outputs": [
    {
     "data": {
      "text/plain": [
       "id                    0\n",
       "title                 0\n",
       "subtitle              0\n",
       "sq_mt_built           0\n",
       "sq_mt_useful          0\n",
       "n_rooms               0\n",
       "n_bathrooms           0\n",
       "floor                 0\n",
       "is_floor_under        0\n",
       "neighborhood_id       0\n",
       "rent_price            0\n",
       "buy_price             0\n",
       "house_type_id         0\n",
       "is_new_development    0\n",
       "is_renewal_needed     0\n",
       "energy_certificate    0\n",
       "has_parking           0\n",
       "is_exterior           0\n",
       "useful/built          0\n",
       "dtype: int64"
      ]
     },
     "execution_count": 35,
     "metadata": {},
     "output_type": "execute_result"
    }
   ],
   "source": [
    "casas_limpio = casas.dropna(axis=0, how=\"any\")\n",
    "casas_limpio.isnull().sum()"
   ]
  },
  {
   "cell_type": "code",
   "execution_count": 37,
   "metadata": {},
   "outputs": [
    {
     "data": {
      "text/plain": [
       "(17526, 19)"
      ]
     },
     "execution_count": 37,
     "metadata": {},
     "output_type": "execute_result"
    }
   ],
   "source": [
    "casas_limpio.shape"
   ]
  },
  {
   "cell_type": "code",
   "execution_count": null,
   "metadata": {},
   "outputs": [],
   "source": []
  }
 ],
 "metadata": {
  "kernelspec": {
   "display_name": "Python 3",
   "language": "python",
   "name": "python3"
  },
  "language_info": {
   "codemirror_mode": {
    "name": "ipython",
    "version": 3
   },
   "file_extension": ".py",
   "mimetype": "text/x-python",
   "name": "python",
   "nbconvert_exporter": "python",
   "pygments_lexer": "ipython3",
   "version": "3.8.5"
  },
  "toc": {
   "base_numbering": 1,
   "nav_menu": {},
   "number_sections": true,
   "sideBar": true,
   "skip_h1_title": false,
   "title_cell": "Table of Contents",
   "title_sidebar": "Contents",
   "toc_cell": false,
   "toc_position": {},
   "toc_section_display": true,
   "toc_window_display": true
  }
 },
 "nbformat": 4,
 "nbformat_minor": 4
}
